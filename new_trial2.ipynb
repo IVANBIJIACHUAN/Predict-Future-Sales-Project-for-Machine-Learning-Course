{
 "cells": [
  {
   "cell_type": "markdown",
   "metadata": {},
   "source": [
    "# Part 2: Regression"
   ]
  },
  {
   "cell_type": "code",
   "execution_count": 1,
   "metadata": {},
   "outputs": [
    {
     "data": {
      "text/plain": [
       "sys.version_info(major=3, minor=6, micro=6, releaselevel='final', serial=0)"
      ]
     },
     "execution_count": 1,
     "metadata": {},
     "output_type": "execute_result"
    }
   ],
   "source": [
    "import numpy as np\n",
    "import pandas as pd\n",
    "pd.set_option('display.max_rows', 500)\n",
    "pd.set_option('display.max_columns', 100)\n",
    "\n",
    "from itertools import product\n",
    "from sklearn.preprocessing import LabelEncoder\n",
    "\n",
    "import seaborn as sns\n",
    "import matplotlib.pyplot as plt\n",
    "%matplotlib inline\n",
    "\n",
    "from xgboost import XGBRegressor\n",
    "from xgboost import plot_importance\n",
    "\n",
    "def plot_features(booster, figsize):    \n",
    "    fig, ax = plt.subplots(1,1,figsize=figsize)\n",
    "    return plot_importance(booster=booster, ax=ax)\n",
    "\n",
    "import time\n",
    "import sys\n",
    "import gc\n",
    "import pickle\n",
    "sys.version_info"
   ]
  },
  {
   "cell_type": "code",
   "execution_count": 2,
   "metadata": {
    "collapsed": true
   },
   "outputs": [],
   "source": [
    "data = pd.read_pickle('data.pkl')"
   ]
  },
  {
   "cell_type": "code",
   "execution_count": 3,
   "metadata": {
    "collapsed": true
   },
   "outputs": [],
   "source": [
    "data = data[[\n",
    "    'date_block_num',\n",
    "    'shop_id',\n",
    "    'item_id',\n",
    "    'item_cnt_month',\n",
    "    'city_code',\n",
    "    'item_category_id',\n",
    "    'type_code',\n",
    "    'subtype_code',\n",
    "    'item_cnt_month_lag_1',\n",
    "    'item_cnt_month_lag_2',\n",
    "    'item_cnt_month_lag_3',\n",
    "    'item_cnt_month_lag_6',\n",
    "    'item_cnt_month_lag_12',\n",
    "    'date_avg_item_cnt_lag_1',\n",
    "    'date_item_avg_item_cnt_lag_1',\n",
    "    'date_item_avg_item_cnt_lag_2',\n",
    "    'date_item_avg_item_cnt_lag_3',\n",
    "    'date_item_avg_item_cnt_lag_6',\n",
    "    'date_item_avg_item_cnt_lag_12',\n",
    "    'date_shop_avg_item_cnt_lag_1',\n",
    "    'date_shop_avg_item_cnt_lag_2',\n",
    "    'date_shop_avg_item_cnt_lag_3',\n",
    "    'date_shop_avg_item_cnt_lag_6',\n",
    "    'date_shop_avg_item_cnt_lag_12',\n",
    "    'date_cat_avg_item_cnt_lag_1',\n",
    "    'date_shop_cat_avg_item_cnt_lag_1',\n",
    "    #'date_shop_type_avg_item_cnt_lag_1',\n",
    "    #'date_shop_subtype_avg_item_cnt_lag_1',\n",
    "    'date_city_avg_item_cnt_lag_1',\n",
    "    'date_item_city_avg_item_cnt_lag_1',\n",
    "    #'date_type_avg_item_cnt_lag_1',\n",
    "    #'date_subtype_avg_item_cnt_lag_1',\n",
    "    'delta_price_lag',\n",
    "    'month',\n",
    "    'days',\n",
    "    'item_shop_last_sale',\n",
    "    'item_last_sale',\n",
    "    'item_shop_first_sale',\n",
    "    'item_first_sale',\n",
    "]]"
   ]
  },
  {
   "cell_type": "code",
   "execution_count": 4,
   "metadata": {
    "collapsed": true
   },
   "outputs": [],
   "source": [
    "X_train = data[data.date_block_num < 33].drop(['item_cnt_month'], axis=1)\n",
    "Y_train = data[data.date_block_num < 33]['item_cnt_month']\n",
    "X_valid = data[data.date_block_num == 33].drop(['item_cnt_month'], axis=1)\n",
    "Y_valid = data[data.date_block_num == 33]['item_cnt_month']\n",
    "X_test = data[data.date_block_num == 34].drop(['item_cnt_month'], axis=1)"
   ]
  },
  {
   "cell_type": "code",
   "execution_count": 5,
   "metadata": {},
   "outputs": [
    {
     "name": "stdout",
     "output_type": "stream",
     "text": [
      "[4.59871339e-01 1.40540865e-01 1.00037322e-01 8.61769977e-02\n",
      " 5.33348845e-02 4.92750204e-02 2.32227818e-02 1.86974900e-02\n",
      " 1.45294925e-02 1.24995475e-02 1.12814234e-02 9.20011087e-03\n",
      " 7.71124662e-03 3.31857603e-03 3.16672920e-03 2.49521914e-03\n",
      " 1.71051315e-03 1.16162742e-03 9.22231864e-04 4.51565255e-04\n",
      " 3.95016161e-04]\n"
     ]
    }
   ],
   "source": [
    "from sklearn.decomposition import PCA\n",
    "\n",
    "lagpart=['item_cnt_month_lag_1',\n",
    "    'item_cnt_month_lag_2',\n",
    "    'item_cnt_month_lag_3',\n",
    "    'item_cnt_month_lag_6',\n",
    "    'item_cnt_month_lag_12',\n",
    "    'date_avg_item_cnt_lag_1',\n",
    "    'date_item_avg_item_cnt_lag_1',\n",
    "    'date_item_avg_item_cnt_lag_2',\n",
    "    'date_item_avg_item_cnt_lag_3',\n",
    "    'date_item_avg_item_cnt_lag_6',\n",
    "    'date_item_avg_item_cnt_lag_12',\n",
    "    'date_shop_avg_item_cnt_lag_1',\n",
    "    'date_shop_avg_item_cnt_lag_2',\n",
    "    'date_shop_avg_item_cnt_lag_3',\n",
    "    'date_shop_avg_item_cnt_lag_6',\n",
    "    'date_shop_avg_item_cnt_lag_12',\n",
    "    'date_cat_avg_item_cnt_lag_1',\n",
    "    'date_shop_cat_avg_item_cnt_lag_1',\n",
    "    #'date_shop_type_avg_item_cnt_lag_1',\n",
    "    #'date_shop_subtype_avg_item_cnt_lag_1',\n",
    "    'date_city_avg_item_cnt_lag_1',\n",
    "    'date_item_city_avg_item_cnt_lag_1',\n",
    "    #'date_type_avg_item_cnt_lag_1',\n",
    "    #'date_subtype_avg_item_cnt_lag_1',\n",
    "    'delta_price_lag']\n",
    "\n",
    "X_train_lagpart=X_train[lagpart]\n",
    "X_valid_lagpart=X_valid[lagpart]\n",
    "X_test_lagpart=X_test[lagpart]\n",
    "\n",
    "\n",
    "pca = PCA(n_components=X_train_lagpart.shape[1])#n_components=X_train.shape[1]\n",
    "pca.fit(X_train_lagpart)\n",
    "print(pca.explained_variance_ratio_)"
   ]
  },
  {
   "cell_type": "code",
   "execution_count": 6,
   "metadata": {},
   "outputs": [
    {
     "name": "stderr",
     "output_type": "stream",
     "text": [
      "C:\\Users\\bijiachuan\\Anaconda3\\lib\\site-packages\\numpy\\core\\_methods.py:32: RuntimeWarning: overflow encountered in reduce\n",
      "  return umr_sum(a, axis, dtype, out, keepdims)\n"
     ]
    },
    {
     "name": "stdout",
     "output_type": "stream",
     "text": [
      "<class 'pandas.core.frame.DataFrame'>\n",
      "Int64Index: 6186922 entries, 4488710 to 10675631\n",
      "Data columns (total 34 columns):\n",
      "date_block_num          int8\n",
      "shop_id                 int8\n",
      "item_id                 int16\n",
      "city_code               int8\n",
      "item_category_id        int8\n",
      "type_code               int8\n",
      "subtype_code            int8\n",
      "month                   int8\n",
      "days                    int8\n",
      "item_shop_last_sale     int8\n",
      "item_last_sale          int8\n",
      "item_shop_first_sale    int8\n",
      "item_first_sale         int8\n",
      "F_0                     float16\n",
      "F_1                     float16\n",
      "F_2                     float16\n",
      "F_3                     float16\n",
      "F_4                     float16\n",
      "F_5                     float16\n",
      "F_6                     float16\n",
      "F_7                     float16\n",
      "F_8                     float16\n",
      "F_9                     float16\n",
      "F_10                    float16\n",
      "F_11                    float16\n",
      "F_12                    float16\n",
      "F_13                    float16\n",
      "F_14                    float16\n",
      "F_15                    float16\n",
      "F_16                    float16\n",
      "F_17                    float16\n",
      "F_18                    float16\n",
      "F_19                    float16\n",
      "F_20                    float16\n",
      "dtypes: float16(21), int16(1), int8(12)\n",
      "memory usage: 377.6 MB\n"
     ]
    }
   ],
   "source": [
    "X_train_lagpart=pca.transform(X_train_lagpart)\n",
    "X_valid_lagpart=pca.transform(X_valid_lagpart)\n",
    "X_test_lagpart=pca.transform(X_test_lagpart)\n",
    "\n",
    "\n",
    "cols=[]\n",
    "for i in range(len(lagpart)):\n",
    "    cols.append('F_'+str(i))\n",
    "    X_train['F_'+str(i)]=X_train_lagpart[:,i].astype(np.float16)\n",
    "    X_valid['F_'+str(i)]=X_valid_lagpart[:,i].astype(np.float16)\n",
    "    X_test['F_'+str(i)]=X_test_lagpart[:,i].astype(np.float16)\n",
    "    \n",
    "X_train.drop(lagpart, axis=1, inplace=True)\n",
    "X_valid.drop(lagpart, axis=1, inplace=True)\n",
    "X_test.drop(lagpart, axis=1, inplace=True)\n",
    "\n",
    "X_train.info()"
   ]
  },
  {
   "cell_type": "code",
   "execution_count": 7,
   "metadata": {
    "collapsed": true
   },
   "outputs": [],
   "source": [
    "del data\n",
    "del X_train_lagpart\n",
    "del X_test_lagpart\n",
    "del X_valid_lagpart\n",
    "gc.collect();"
   ]
  },
  {
   "cell_type": "code",
   "execution_count": 8,
   "metadata": {},
   "outputs": [
    {
     "name": "stdout",
     "output_type": "stream",
     "text": [
      "[0]\tvalidation_0-rmse:1.15667\tvalidation_1-rmse:1.12049\n",
      "Multiple eval metrics have been passed: 'validation_1-rmse' will be used for early stopping.\n",
      "\n",
      "Will train until validation_1-rmse hasn't improved in 5 rounds.\n",
      "[1]\tvalidation_0-rmse:1.11373\tvalidation_1-rmse:1.08609\n",
      "[2]\tvalidation_0-rmse:1.0771\tvalidation_1-rmse:1.05716\n",
      "[3]\tvalidation_0-rmse:1.04572\tvalidation_1-rmse:1.03351\n",
      "[4]\tvalidation_0-rmse:1.01944\tvalidation_1-rmse:1.01412\n",
      "[5]\tvalidation_0-rmse:0.999316\tvalidation_1-rmse:1.00032\n",
      "[6]\tvalidation_0-rmse:0.9802\tvalidation_1-rmse:0.9871\n",
      "[7]\tvalidation_0-rmse:0.964743\tvalidation_1-rmse:0.976509\n",
      "[8]\tvalidation_0-rmse:0.950631\tvalidation_1-rmse:0.966761\n",
      "[9]\tvalidation_0-rmse:0.939133\tvalidation_1-rmse:0.959716\n",
      "[10]\tvalidation_0-rmse:0.928592\tvalidation_1-rmse:0.953123\n",
      "[11]\tvalidation_0-rmse:0.920935\tvalidation_1-rmse:0.948627\n",
      "[12]\tvalidation_0-rmse:0.913201\tvalidation_1-rmse:0.942626\n",
      "[13]\tvalidation_0-rmse:0.907586\tvalidation_1-rmse:0.939588\n",
      "[14]\tvalidation_0-rmse:0.901219\tvalidation_1-rmse:0.935639\n",
      "[15]\tvalidation_0-rmse:0.896928\tvalidation_1-rmse:0.933673\n",
      "[16]\tvalidation_0-rmse:0.892658\tvalidation_1-rmse:0.931526\n",
      "[17]\tvalidation_0-rmse:0.888535\tvalidation_1-rmse:0.928975\n",
      "[18]\tvalidation_0-rmse:0.885324\tvalidation_1-rmse:0.927454\n",
      "[19]\tvalidation_0-rmse:0.882115\tvalidation_1-rmse:0.925879\n",
      "[20]\tvalidation_0-rmse:0.879176\tvalidation_1-rmse:0.925254\n",
      "[21]\tvalidation_0-rmse:0.876757\tvalidation_1-rmse:0.924308\n",
      "[22]\tvalidation_0-rmse:0.87469\tvalidation_1-rmse:0.923582\n",
      "[23]\tvalidation_0-rmse:0.872009\tvalidation_1-rmse:0.922275\n",
      "[24]\tvalidation_0-rmse:0.870391\tvalidation_1-rmse:0.921817\n",
      "[25]\tvalidation_0-rmse:0.868534\tvalidation_1-rmse:0.92127\n",
      "[26]\tvalidation_0-rmse:0.86676\tvalidation_1-rmse:0.921027\n",
      "[27]\tvalidation_0-rmse:0.86547\tvalidation_1-rmse:0.920379\n",
      "[28]\tvalidation_0-rmse:0.863804\tvalidation_1-rmse:0.919699\n",
      "[29]\tvalidation_0-rmse:0.862346\tvalidation_1-rmse:0.918747\n",
      "[30]\tvalidation_0-rmse:0.861288\tvalidation_1-rmse:0.918412\n",
      "[31]\tvalidation_0-rmse:0.860032\tvalidation_1-rmse:0.917672\n",
      "[32]\tvalidation_0-rmse:0.858956\tvalidation_1-rmse:0.916897\n",
      "[33]\tvalidation_0-rmse:0.85785\tvalidation_1-rmse:0.916924\n",
      "[34]\tvalidation_0-rmse:0.856993\tvalidation_1-rmse:0.916938\n",
      "[35]\tvalidation_0-rmse:0.855726\tvalidation_1-rmse:0.918575\n",
      "[36]\tvalidation_0-rmse:0.854651\tvalidation_1-rmse:0.918538\n",
      "[37]\tvalidation_0-rmse:0.85406\tvalidation_1-rmse:0.918247\n",
      "Stopping. Best iteration:\n",
      "[32]\tvalidation_0-rmse:0.858956\tvalidation_1-rmse:0.916897\n",
      "\n"
     ]
    },
    {
     "data": {
      "text/plain": [
       "705.815906047821"
      ]
     },
     "execution_count": 8,
     "metadata": {},
     "output_type": "execute_result"
    }
   ],
   "source": [
    "ts = time.time()\n",
    "\n",
    "model = XGBRegressor(\n",
    "    max_depth=8,\n",
    "    n_estimators=1000,\n",
    "    min_child_weight=300, \n",
    "    colsample_bytree=0.8, \n",
    "    subsample=0.8, \n",
    "    eta=0.3,    \n",
    "    seed=42)\n",
    "\n",
    "model.fit(\n",
    "    X_train, \n",
    "    Y_train, \n",
    "    eval_metric=\"rmse\",     eval_set=[(X_train, Y_train), (X_valid, Y_valid)], \n",
    "    verbose=True, \n",
    "    early_stopping_rounds = 5)\n",
    "\n",
    "time.time() - ts"
   ]
  },
  {
   "cell_type": "code",
   "execution_count": 9,
   "metadata": {},
   "outputs": [],
   "source": [
    "test  = pd.read_csv('input/test.csv').set_index('ID')\n",
    "\n",
    "Y_pred = model.predict(X_valid).clip(0, 20)\n",
    "Y_test = model.predict(X_test).clip(0, 20)\n",
    "\n",
    "submission = pd.DataFrame({\n",
    "    \"ID\": test.index, \n",
    "    \"item_cnt_month\": Y_test\n",
    "})\n",
    "submission.to_csv('xgb_submission_new2.csv', index=False)\n",
    "\n",
    "# save predictions for an ensemble\n",
    "pickle.dump(Y_pred, open('xgb_train.pickle_new2', 'wb'))\n",
    "pickle.dump(Y_test, open('xgb_test.pickle_new2', 'wb'))"
   ]
  },
  {
   "cell_type": "code",
   "execution_count": 10,
   "metadata": {},
   "outputs": [
    {
     "data": {
      "text/plain": [
       "<matplotlib.axes._subplots.AxesSubplot at 0x1fa04e1dc18>"
      ]
     },
     "execution_count": 10,
     "metadata": {},
     "output_type": "execute_result"
    },
    {
     "data": {
      "image/png": "[encoded data removed]",
      "text/plain": [
       "<Figure size 720x1008 with 1 Axes>"
      ]
     },
     "metadata": {},
     "output_type": "display_data"
    }
   ],
   "source": [
    "plot_features(model, (10,14))"
   ]
  },
  {
   "cell_type": "code",
   "execution_count": 11,
   "metadata": {},
   "outputs": [
    {
     "data": {
      "text/plain": [
       "24"
      ]
     },
     "execution_count": 11,
     "metadata": {},
     "output_type": "execute_result"
    }
   ],
   "source": [
    "del X_train\n",
    "del Y_train\n",
    "del X_valid\n",
    "del Y_valid\n",
    "del X_test\n",
    "del Y_test\n",
    "gc.collect()"
   ]
  },
  {
   "cell_type": "markdown",
   "metadata": {},
   "source": [
    " # End "
   ]
  }
 ],
 "metadata": {
  "kernelspec": {
   "display_name": "Python (py3)",
   "language": "python",
   "name": "py3"
  },
  "language_info": {
   "codemirror_mode": {
    "name": "ipython",
    "version": 3
   },
   "file_extension": ".py",
   "mimetype": "text/x-python",
   "name": "python",
   "nbconvert_exporter": "python",
   "pygments_lexer": "ipython3",
   "version": "3.6.5"
  }
 },
 "nbformat": 4,
 "nbformat_minor": 2
}
