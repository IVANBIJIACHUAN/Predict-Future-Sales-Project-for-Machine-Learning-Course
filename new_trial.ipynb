{
 "cells": [
  {
   "cell_type": "markdown",
   "metadata": {},
   "source": [
    "# Part 2: Regression"
   ]
  },
  {
   "cell_type": "code",
   "execution_count": 1,
   "metadata": {},
   "outputs": [
    {
     "data": {
      "text/plain": [
       "sys.version_info(major=3, minor=6, micro=6, releaselevel='final', serial=0)"
      ]
     },
     "execution_count": 1,
     "metadata": {},
     "output_type": "execute_result"
    }
   ],
   "source": [
    "import numpy as np\n",
    "import pandas as pd\n",
    "pd.set_option('display.max_rows', 500)\n",
    "pd.set_option('display.max_columns', 100)\n",
    "\n",
    "from itertools import product\n",
    "from sklearn.preprocessing import LabelEncoder\n",
    "\n",
    "import seaborn as sns\n",
    "import matplotlib.pyplot as plt\n",
    "%matplotlib inline\n",
    "\n",
    "from xgboost import XGBRegressor\n",
    "from xgboost import plot_importance\n",
    "\n",
    "def plot_features(booster, figsize):    \n",
    "    fig, ax = plt.subplots(1,1,figsize=figsize)\n",
    "    return plot_importance(booster=booster, ax=ax)\n",
    "\n",
    "import time\n",
    "import sys\n",
    "import gc\n",
    "import pickle\n",
    "sys.version_info"
   ]
  },
  {
   "cell_type": "code",
   "execution_count": 2,
   "metadata": {
    "collapsed": true
   },
   "outputs": [],
   "source": [
    "data = pd.read_pickle('data.pkl')"
   ]
  },
  {
   "cell_type": "code",
   "execution_count": 3,
   "metadata": {
    "collapsed": true
   },
   "outputs": [],
   "source": [
    "data = data[[\n",
    "    'date_block_num',\n",
    "    'shop_id',\n",
    "    'item_id',\n",
    "    'item_cnt_month',\n",
    "    'city_code',\n",
    "    'item_category_id',\n",
    "    'type_code',\n",
    "    'subtype_code',\n",
    "    'item_cnt_month_lag_1',\n",
    "    'item_cnt_month_lag_2',\n",
    "    'item_cnt_month_lag_3',\n",
    "    'item_cnt_month_lag_6',\n",
    "    'item_cnt_month_lag_12',\n",
    "    'date_avg_item_cnt_lag_1',\n",
    "    'date_item_avg_item_cnt_lag_1',\n",
    "    'date_item_avg_item_cnt_lag_2',\n",
    "    'date_item_avg_item_cnt_lag_3',\n",
    "    'date_item_avg_item_cnt_lag_6',\n",
    "    'date_item_avg_item_cnt_lag_12',\n",
    "    'date_shop_avg_item_cnt_lag_1',\n",
    "    'date_shop_avg_item_cnt_lag_2',\n",
    "    'date_shop_avg_item_cnt_lag_3',\n",
    "    'date_shop_avg_item_cnt_lag_6',\n",
    "    'date_shop_avg_item_cnt_lag_12',\n",
    "    'date_cat_avg_item_cnt_lag_1',\n",
    "    'date_shop_cat_avg_item_cnt_lag_1',\n",
    "    #'date_shop_type_avg_item_cnt_lag_1',\n",
    "    #'date_shop_subtype_avg_item_cnt_lag_1',\n",
    "    'date_city_avg_item_cnt_lag_1',\n",
    "    'date_item_city_avg_item_cnt_lag_1',\n",
    "    #'date_type_avg_item_cnt_lag_1',\n",
    "    #'date_subtype_avg_item_cnt_lag_1',\n",
    "    'delta_price_lag',\n",
    "    'month',\n",
    "    'days',\n",
    "    #'item_shop_last_sale',\n",
    "    'item_last_sale',\n",
    "    'item_shop_first_sale',\n",
    "    'item_first_sale',\n",
    "]]"
   ]
  },
  {
   "cell_type": "code",
   "execution_count": 4,
   "metadata": {
    "collapsed": true
   },
   "outputs": [],
   "source": [
    "X_train = data[data.date_block_num < 33].drop(['item_cnt_month'], axis=1)\n",
    "Y_train = data[data.date_block_num < 33]['item_cnt_month']\n",
    "X_valid = data[data.date_block_num == 33].drop(['item_cnt_month'], axis=1)\n",
    "Y_valid = data[data.date_block_num == 33]['item_cnt_month']\n",
    "X_test = data[data.date_block_num == 34].drop(['item_cnt_month'], axis=1)"
   ]
  },
  {
   "cell_type": "code",
   "execution_count": 5,
   "metadata": {},
   "outputs": [
    {
     "name": "stdout",
     "output_type": "stream",
     "text": [
      "[4.59871339e-01 1.40540865e-01 1.00037322e-01 8.61769977e-02\n",
      " 5.33348845e-02 4.92750204e-02 2.32227818e-02 1.86974900e-02\n",
      " 1.45294925e-02 1.24995475e-02 1.12814234e-02 9.20011087e-03\n",
      " 7.71124662e-03 3.31857603e-03 3.16672920e-03 2.49521914e-03\n",
      " 1.71051315e-03 1.16162742e-03 9.22231864e-04 4.51565255e-04\n",
      " 3.95016161e-04]\n"
     ]
    }
   ],
   "source": [
    "from sklearn.decomposition import PCA\n",
    "\n",
    "lagpart=['item_cnt_month_lag_1',\n",
    "    'item_cnt_month_lag_2',\n",
    "    'item_cnt_month_lag_3',\n",
    "    'item_cnt_month_lag_6',\n",
    "    'item_cnt_month_lag_12',\n",
    "    'date_avg_item_cnt_lag_1',\n",
    "    'date_item_avg_item_cnt_lag_1',\n",
    "    'date_item_avg_item_cnt_lag_2',\n",
    "    'date_item_avg_item_cnt_lag_3',\n",
    "    'date_item_avg_item_cnt_lag_6',\n",
    "    'date_item_avg_item_cnt_lag_12',\n",
    "    'date_shop_avg_item_cnt_lag_1',\n",
    "    'date_shop_avg_item_cnt_lag_2',\n",
    "    'date_shop_avg_item_cnt_lag_3',\n",
    "    'date_shop_avg_item_cnt_lag_6',\n",
    "    'date_shop_avg_item_cnt_lag_12',\n",
    "    'date_cat_avg_item_cnt_lag_1',\n",
    "    'date_shop_cat_avg_item_cnt_lag_1',\n",
    "    #'date_shop_type_avg_item_cnt_lag_1',\n",
    "    #'date_shop_subtype_avg_item_cnt_lag_1',\n",
    "    'date_city_avg_item_cnt_lag_1',\n",
    "    'date_item_city_avg_item_cnt_lag_1',\n",
    "    #'date_type_avg_item_cnt_lag_1',\n",
    "    #'date_subtype_avg_item_cnt_lag_1',\n",
    "    'delta_price_lag']\n",
    "\n",
    "X_train_lagpart=X_train[lagpart]\n",
    "X_valid_lagpart=X_valid[lagpart]\n",
    "X_test_lagpart=X_test[lagpart]\n",
    "\n",
    "\n",
    "pca = PCA(n_components=X_train_lagpart.shape[1])#n_components=X_train.shape[1]\n",
    "pca.fit(X_train_lagpart)\n",
    "print(pca.explained_variance_ratio_)"
   ]
  },
  {
   "cell_type": "code",
   "execution_count": 6,
   "metadata": {},
   "outputs": [
    {
     "name": "stderr",
     "output_type": "stream",
     "text": [
      "C:\\Users\\bijiachuan\\Anaconda3\\lib\\site-packages\\numpy\\core\\_methods.py:32: RuntimeWarning: overflow encountered in reduce\n",
      "  return umr_sum(a, axis, dtype, out, keepdims)\n"
     ]
    },
    {
     "name": "stdout",
     "output_type": "stream",
     "text": [
      "<class 'pandas.core.frame.DataFrame'>\n",
      "Int64Index: 6186922 entries, 4488710 to 10675631\n",
      "Data columns (total 33 columns):\n",
      "date_block_num          int8\n",
      "shop_id                 int8\n",
      "item_id                 int16\n",
      "city_code               int8\n",
      "item_category_id        int8\n",
      "type_code               int8\n",
      "subtype_code            int8\n",
      "month                   int8\n",
      "days                    int8\n",
      "item_last_sale          int8\n",
      "item_shop_first_sale    int8\n",
      "item_first_sale         int8\n",
      "F_0                     float16\n",
      "F_1                     float16\n",
      "F_2                     float16\n",
      "F_3                     float16\n",
      "F_4                     float16\n",
      "F_5                     float16\n",
      "F_6                     float16\n",
      "F_7                     float16\n",
      "F_8                     float16\n",
      "F_9                     float16\n",
      "F_10                    float16\n",
      "F_11                    float16\n",
      "F_12                    float16\n",
      "F_13                    float16\n",
      "F_14                    float16\n",
      "F_15                    float16\n",
      "F_16                    float16\n",
      "F_17                    float16\n",
      "F_18                    float16\n",
      "F_19                    float16\n",
      "F_20                    float16\n",
      "dtypes: float16(21), int16(1), int8(11)\n",
      "memory usage: 371.7 MB\n"
     ]
    }
   ],
   "source": [
    "X_train_lagpart=pca.transform(X_train_lagpart)\n",
    "X_valid_lagpart=pca.transform(X_valid_lagpart)\n",
    "X_test_lagpart=pca.transform(X_test_lagpart)\n",
    "\n",
    "\n",
    "cols=[]\n",
    "for i in range(len(lagpart)):\n",
    "    cols.append('F_'+str(i))\n",
    "    X_train['F_'+str(i)]=X_train_lagpart[:,i].astype(np.float16)\n",
    "    X_valid['F_'+str(i)]=X_valid_lagpart[:,i].astype(np.float16)\n",
    "    X_test['F_'+str(i)]=X_test_lagpart[:,i].astype(np.float16)\n",
    "    \n",
    "X_train.drop(lagpart, axis=1, inplace=True)\n",
    "X_valid.drop(lagpart, axis=1, inplace=True)\n",
    "X_test.drop(lagpart, axis=1, inplace=True)\n",
    "\n",
    "X_train.info()"
   ]
  },
  {
   "cell_type": "code",
   "execution_count": 7,
   "metadata": {
    "collapsed": true
   },
   "outputs": [],
   "source": [
    "del data\n",
    "del X_train_lagpart\n",
    "del X_test_lagpart\n",
    "del X_valid_lagpart\n",
    "gc.collect();"
   ]
  },
  {
   "cell_type": "code",
   "execution_count": 8,
   "metadata": {},
   "outputs": [
    {
     "name": "stdout",
     "output_type": "stream",
     "text": [
      "[0]\tvalidation_0-rmse:1.15657\tvalidation_1-rmse:1.12011\n",
      "Multiple eval metrics have been passed: 'validation_1-rmse' will be used for early stopping.\n",
      "\n",
      "Will train until validation_1-rmse hasn't improved in 10 rounds.\n",
      "[1]\tvalidation_0-rmse:1.11417\tvalidation_1-rmse:1.08439\n",
      "[2]\tvalidation_0-rmse:1.07757\tvalidation_1-rmse:1.05591\n",
      "[3]\tvalidation_0-rmse:1.04713\tvalidation_1-rmse:1.03205\n",
      "[4]\tvalidation_0-rmse:1.02404\tvalidation_1-rmse:1.01528\n",
      "[5]\tvalidation_0-rmse:1.00109\tvalidation_1-rmse:0.998344\n",
      "[6]\tvalidation_0-rmse:0.982005\tvalidation_1-rmse:0.984622\n",
      "[7]\tvalidation_0-rmse:0.967921\tvalidation_1-rmse:0.975599\n",
      "[8]\tvalidation_0-rmse:0.953414\tvalidation_1-rmse:0.965759\n",
      "[9]\tvalidation_0-rmse:0.941042\tvalidation_1-rmse:0.957025\n",
      "[10]\tvalidation_0-rmse:0.930709\tvalidation_1-rmse:0.950606\n",
      "[11]\tvalidation_0-rmse:0.922103\tvalidation_1-rmse:0.945443\n",
      "[12]\tvalidation_0-rmse:0.914407\tvalidation_1-rmse:0.940815\n",
      "[13]\tvalidation_0-rmse:0.907801\tvalidation_1-rmse:0.937237\n",
      "[14]\tvalidation_0-rmse:0.902023\tvalidation_1-rmse:0.934578\n",
      "[15]\tvalidation_0-rmse:0.897672\tvalidation_1-rmse:0.931931\n",
      "[16]\tvalidation_0-rmse:0.893581\tvalidation_1-rmse:0.929834\n",
      "[17]\tvalidation_0-rmse:0.889488\tvalidation_1-rmse:0.927804\n",
      "[18]\tvalidation_0-rmse:0.88521\tvalidation_1-rmse:0.926539\n",
      "[19]\tvalidation_0-rmse:0.882206\tvalidation_1-rmse:0.92487\n",
      "[20]\tvalidation_0-rmse:0.879791\tvalidation_1-rmse:0.923693\n",
      "[21]\tvalidation_0-rmse:0.877119\tvalidation_1-rmse:0.922502\n",
      "[22]\tvalidation_0-rmse:0.874506\tvalidation_1-rmse:0.92145\n",
      "[23]\tvalidation_0-rmse:0.872032\tvalidation_1-rmse:0.920932\n",
      "[24]\tvalidation_0-rmse:0.870086\tvalidation_1-rmse:0.920029\n",
      "[25]\tvalidation_0-rmse:0.868402\tvalidation_1-rmse:0.91966\n",
      "[26]\tvalidation_0-rmse:0.866729\tvalidation_1-rmse:0.919201\n",
      "[27]\tvalidation_0-rmse:0.865411\tvalidation_1-rmse:0.918609\n",
      "[28]\tvalidation_0-rmse:0.86421\tvalidation_1-rmse:0.918396\n",
      "[29]\tvalidation_0-rmse:0.862662\tvalidation_1-rmse:0.917582\n",
      "[30]\tvalidation_0-rmse:0.861229\tvalidation_1-rmse:0.917309\n",
      "[31]\tvalidation_0-rmse:0.860209\tvalidation_1-rmse:0.917242\n",
      "[32]\tvalidation_0-rmse:0.859131\tvalidation_1-rmse:0.916982\n",
      "[33]\tvalidation_0-rmse:0.857912\tvalidation_1-rmse:0.91689\n",
      "[34]\tvalidation_0-rmse:0.857087\tvalidation_1-rmse:0.916703\n",
      "[35]\tvalidation_0-rmse:0.855973\tvalidation_1-rmse:0.916318\n",
      "[36]\tvalidation_0-rmse:0.8549\tvalidation_1-rmse:0.9166\n",
      "[37]\tvalidation_0-rmse:0.854221\tvalidation_1-rmse:0.916083\n",
      "[38]\tvalidation_0-rmse:0.853351\tvalidation_1-rmse:0.915883\n",
      "[39]\tvalidation_0-rmse:0.852614\tvalidation_1-rmse:0.915621\n",
      "[40]\tvalidation_0-rmse:0.851995\tvalidation_1-rmse:0.915368\n",
      "[41]\tvalidation_0-rmse:0.851405\tvalidation_1-rmse:0.915158\n",
      "[42]\tvalidation_0-rmse:0.85069\tvalidation_1-rmse:0.915007\n",
      "[43]\tvalidation_0-rmse:0.850135\tvalidation_1-rmse:0.914807\n",
      "[44]\tvalidation_0-rmse:0.848968\tvalidation_1-rmse:0.91471\n",
      "[45]\tvalidation_0-rmse:0.84827\tvalidation_1-rmse:0.914682\n",
      "[46]\tvalidation_0-rmse:0.847607\tvalidation_1-rmse:0.914513\n",
      "[47]\tvalidation_0-rmse:0.847131\tvalidation_1-rmse:0.914456\n",
      "[48]\tvalidation_0-rmse:0.846307\tvalidation_1-rmse:0.914222\n",
      "[49]\tvalidation_0-rmse:0.845807\tvalidation_1-rmse:0.914181\n",
      "[50]\tvalidation_0-rmse:0.845121\tvalidation_1-rmse:0.914144\n",
      "[51]\tvalidation_0-rmse:0.844657\tvalidation_1-rmse:0.913947\n",
      "[52]\tvalidation_0-rmse:0.843879\tvalidation_1-rmse:0.913657\n",
      "[53]\tvalidation_0-rmse:0.843373\tvalidation_1-rmse:0.913504\n",
      "[54]\tvalidation_0-rmse:0.84289\tvalidation_1-rmse:0.913317\n",
      "[55]\tvalidation_0-rmse:0.842357\tvalidation_1-rmse:0.913179\n",
      "[56]\tvalidation_0-rmse:0.841903\tvalidation_1-rmse:0.912993\n",
      "[57]\tvalidation_0-rmse:0.841402\tvalidation_1-rmse:0.912944\n",
      "[58]\tvalidation_0-rmse:0.841012\tvalidation_1-rmse:0.912909\n",
      "[59]\tvalidation_0-rmse:0.840289\tvalidation_1-rmse:0.912201\n",
      "[60]\tvalidation_0-rmse:0.839864\tvalidation_1-rmse:0.912187\n",
      "[61]\tvalidation_0-rmse:0.839298\tvalidation_1-rmse:0.912139\n",
      "[62]\tvalidation_0-rmse:0.838817\tvalidation_1-rmse:0.912186\n",
      "[63]\tvalidation_0-rmse:0.838329\tvalidation_1-rmse:0.912071\n",
      "[64]\tvalidation_0-rmse:0.837771\tvalidation_1-rmse:0.912037\n",
      "[65]\tvalidation_0-rmse:0.837329\tvalidation_1-rmse:0.91211\n",
      "[66]\tvalidation_0-rmse:0.836897\tvalidation_1-rmse:0.912022\n",
      "[67]\tvalidation_0-rmse:0.83628\tvalidation_1-rmse:0.911964\n",
      "[68]\tvalidation_0-rmse:0.835672\tvalidation_1-rmse:0.912717\n",
      "[69]\tvalidation_0-rmse:0.835293\tvalidation_1-rmse:0.912688\n",
      "[70]\tvalidation_0-rmse:0.834874\tvalidation_1-rmse:0.912357\n",
      "[71]\tvalidation_0-rmse:0.834464\tvalidation_1-rmse:0.91233\n",
      "[72]\tvalidation_0-rmse:0.833907\tvalidation_1-rmse:0.912246\n",
      "[73]\tvalidation_0-rmse:0.833582\tvalidation_1-rmse:0.912043\n",
      "[74]\tvalidation_0-rmse:0.833116\tvalidation_1-rmse:0.911808\n",
      "[75]\tvalidation_0-rmse:0.832847\tvalidation_1-rmse:0.91175\n",
      "[76]\tvalidation_0-rmse:0.832338\tvalidation_1-rmse:0.911809\n",
      "[77]\tvalidation_0-rmse:0.831714\tvalidation_1-rmse:0.909997\n",
      "[78]\tvalidation_0-rmse:0.831148\tvalidation_1-rmse:0.909785\n",
      "[79]\tvalidation_0-rmse:0.830756\tvalidation_1-rmse:0.909555\n",
      "[80]\tvalidation_0-rmse:0.830336\tvalidation_1-rmse:0.909436\n",
      "[81]\tvalidation_0-rmse:0.830117\tvalidation_1-rmse:0.909416\n",
      "[82]\tvalidation_0-rmse:0.829623\tvalidation_1-rmse:0.909177\n",
      "[83]\tvalidation_0-rmse:0.829005\tvalidation_1-rmse:0.907829\n",
      "[84]\tvalidation_0-rmse:0.828668\tvalidation_1-rmse:0.907753\n",
      "[85]\tvalidation_0-rmse:0.828268\tvalidation_1-rmse:0.907948\n",
      "[86]\tvalidation_0-rmse:0.827821\tvalidation_1-rmse:0.907955\n",
      "[87]\tvalidation_0-rmse:0.827615\tvalidation_1-rmse:0.907872\n",
      "[88]\tvalidation_0-rmse:0.82738\tvalidation_1-rmse:0.907802\n",
      "[89]\tvalidation_0-rmse:0.826935\tvalidation_1-rmse:0.90766\n",
      "[90]\tvalidation_0-rmse:0.826623\tvalidation_1-rmse:0.907854\n",
      "[91]\tvalidation_0-rmse:0.826256\tvalidation_1-rmse:0.907577\n",
      "[92]\tvalidation_0-rmse:0.825811\tvalidation_1-rmse:0.907673\n",
      "[93]\tvalidation_0-rmse:0.825538\tvalidation_1-rmse:0.907546\n",
      "[94]\tvalidation_0-rmse:0.825011\tvalidation_1-rmse:0.907166\n",
      "[95]\tvalidation_0-rmse:0.824431\tvalidation_1-rmse:0.906962\n",
      "[96]\tvalidation_0-rmse:0.824072\tvalidation_1-rmse:0.906755\n",
      "[97]\tvalidation_0-rmse:0.823851\tvalidation_1-rmse:0.906718\n",
      "[98]\tvalidation_0-rmse:0.823459\tvalidation_1-rmse:0.906711\n",
      "[99]\tvalidation_0-rmse:0.822862\tvalidation_1-rmse:0.90648\n",
      "[100]\tvalidation_0-rmse:0.822631\tvalidation_1-rmse:0.905531\n",
      "[101]\tvalidation_0-rmse:0.822392\tvalidation_1-rmse:0.905427\n",
      "[102]\tvalidation_0-rmse:0.822129\tvalidation_1-rmse:0.90532\n",
      "[103]\tvalidation_0-rmse:0.821854\tvalidation_1-rmse:0.905161\n",
      "[104]\tvalidation_0-rmse:0.821288\tvalidation_1-rmse:0.904967\n",
      "[105]\tvalidation_0-rmse:0.821066\tvalidation_1-rmse:0.904909\n",
      "[106]\tvalidation_0-rmse:0.820544\tvalidation_1-rmse:0.904926\n",
      "[107]\tvalidation_0-rmse:0.820316\tvalidation_1-rmse:0.904906\n",
      "[108]\tvalidation_0-rmse:0.820042\tvalidation_1-rmse:0.905002\n",
      "[109]\tvalidation_0-rmse:0.819778\tvalidation_1-rmse:0.905123\n",
      "[110]\tvalidation_0-rmse:0.81939\tvalidation_1-rmse:0.905198\n",
      "[111]\tvalidation_0-rmse:0.819227\tvalidation_1-rmse:0.905181\n",
      "[112]\tvalidation_0-rmse:0.818919\tvalidation_1-rmse:0.906246\n",
      "[113]\tvalidation_0-rmse:0.818726\tvalidation_1-rmse:0.906284\n",
      "[114]\tvalidation_0-rmse:0.818228\tvalidation_1-rmse:0.905979\n",
      "[115]\tvalidation_0-rmse:0.817805\tvalidation_1-rmse:0.905754\n",
      "[116]\tvalidation_0-rmse:0.817591\tvalidation_1-rmse:0.905746\n",
      "[117]\tvalidation_0-rmse:0.817271\tvalidation_1-rmse:0.90557\n",
      "Stopping. Best iteration:\n",
      "[107]\tvalidation_0-rmse:0.820316\tvalidation_1-rmse:0.904906\n",
      "\n"
     ]
    },
    {
     "data": {
      "text/plain": [
       "1975.543487071991"
      ]
     },
     "execution_count": 8,
     "metadata": {},
     "output_type": "execute_result"
    }
   ],
   "source": [
    "ts = time.time()\n",
    "\n",
    "model = XGBRegressor(\n",
    "    max_depth=8,\n",
    "    n_estimators=1000,\n",
    "    min_child_weight=300, \n",
    "    colsample_bytree=0.8, \n",
    "    subsample=0.8, \n",
    "    eta=0.3,    \n",
    "    seed=42)\n",
    "\n",
    "model.fit(\n",
    "    X_train, \n",
    "    Y_train, \n",
    "    eval_metric=\"rmse\",     eval_set=[(X_train, Y_train), (X_valid, Y_valid)], \n",
    "    verbose=True, \n",
    "    early_stopping_rounds = 10)\n",
    "\n",
    "time.time() - ts"
   ]
  },
  {
   "cell_type": "code",
   "execution_count": 9,
   "metadata": {
    "collapsed": true
   },
   "outputs": [],
   "source": [
    "test  = pd.read_csv('input/test.csv').set_index('ID')\n",
    "\n",
    "Y_pred = model.predict(X_valid).clip(0, 20)\n",
    "Y_test = model.predict(X_test).clip(0, 20)\n",
    "\n",
    "submission = pd.DataFrame({\n",
    "    \"ID\": test.index, \n",
    "    \"item_cnt_month\": Y_test\n",
    "})\n",
    "submission.to_csv('xgb_submission_new1.csv', index=False)\n",
    "\n",
    "# save predictions for an ensemble\n",
    "pickle.dump(Y_pred, open('xgb_train.pickle_new1', 'wb'))\n",
    "pickle.dump(Y_test, open('xgb_test.pickle_new1', 'wb'))"
   ]
  },
  {
   "cell_type": "code",
   "execution_count": 10,
   "metadata": {},
   "outputs": [
    {
     "data": {
      "text/plain": [
       "<matplotlib.axes._subplots.AxesSubplot at 0x1c0506eb1d0>"
      ]
     },
     "execution_count": 10,
     "metadata": {},
     "output_type": "execute_result"
    },
    {
     "data": {
      "image/png": "[encoded data removed]",
      "text/plain": [
       "<Figure size 720x1008 with 1 Axes>"
      ]
     },
     "metadata": {},
     "output_type": "display_data"
    }
   ],
   "source": [
    "plot_features(model, (10,14))"
   ]
  },
  {
   "cell_type": "code",
   "execution_count": 11,
   "metadata": {},
   "outputs": [
    {
     "data": {
      "text/plain": [
       "29"
      ]
     },
     "execution_count": 11,
     "metadata": {},
     "output_type": "execute_result"
    }
   ],
   "source": [
    "del X_train\n",
    "del Y_train\n",
    "del X_valid\n",
    "del Y_valid\n",
    "del X_test\n",
    "del Y_test\n",
    "gc.collect()"
   ]
  },
  {
   "cell_type": "markdown",
   "metadata": {},
   "source": [
    " # End "
   ]
  }
 ],
 "metadata": {
  "kernelspec": {
   "display_name": "Python 3",
   "language": "python",
   "name": "python3"
  },
  "language_info": {
   "codemirror_mode": {
    "name": "ipython",
    "version": 3
   },
   "file_extension": ".py",
   "mimetype": "text/x-python",
   "name": "python",
   "nbconvert_exporter": "python",
   "pygments_lexer": "ipython3",
   "version": "3.6.6"
  }
 },
 "nbformat": 4,
 "nbformat_minor": 2
}
